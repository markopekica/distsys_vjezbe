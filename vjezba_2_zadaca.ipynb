{
 "cells": [
  {
   "cell_type": "markdown",
   "id": "fb468fb4",
   "metadata": {},
   "source": [
    "## Vježba 2\n",
    "\n",
    "kao zadaca"
   ]
  },
  {
   "cell_type": "code",
   "execution_count": 1,
   "id": "ff2c5377",
   "metadata": {},
   "outputs": [
    {
     "name": "stdout",
     "output_type": "stream",
     "text": [
      "Dobrodošli u Python!\n"
     ]
    }
   ],
   "source": [
    "# 1.\n",
    "# Napišite Python funkciju koja ne zahtijeva parametre i koja ispisuje poruku \"Dobrodošli u\n",
    "# Python!\" na ekranu.\n",
    "\n",
    "def posluka():\n",
    "    print(\"Dobrodošli u Python!\")\n",
    "\n",
    "posluka()"
   ]
  },
  {
   "cell_type": "code",
   "execution_count": 11,
   "id": "1694bd82",
   "metadata": {},
   "outputs": [
    {
     "name": "stdout",
     "output_type": "stream",
     "text": [
      "Dobro jutro, Ana!\n",
      "Dobro jutro, Ana!\n",
      "Dobra vecer, Ana!\n",
      "Dobro jutro, vecer!\n"
     ]
    }
   ],
   "source": [
    "\"\"\" 2.\n",
    "Napišite Python funkciju nazvanu pozdrav koja prihvaća dva argumenta.\n",
    "a. Prvi argument, ime, je obvezni argument koji predstavlja ime osobe.\n",
    "b. Drugi argument, vrijeme_dana, je opcionalni argument s zadanim\n",
    "vrijednostima \"jutro\".\n",
    "Funkcija treba vratiti poruku za pozdrav koja uključuje ime osobe i vrijeme dana. Ako\n",
    "se navede vrijeme_dana, treba se koristiti u poruci. Ako se ne navede, funkcija\n",
    "treba koristiti zadano vrijednost \"jutro\".\n",
    "Primjer :\n",
    "print(pozdrav(\"Ana\")) # Ispis: \"Dobro jutro, Ana!\"\n",
    "print(pozdrav(\"Marko\", \"popodne\")) # Ispis: \"Dobar dan, Marko!\"\n",
    "\"\"\"\n",
    "def pozdrav(ime, vrijeme_dana=\"jutro\"):\n",
    "    if vrijeme_dana == \"jutro\":\n",
    "        return f\"Dobro {vrijeme_dana}, {ime}!\"\n",
    "    elif vrijeme_dana == \"popodne\":\n",
    "        return f\"Dobar {vrijeme_dana}, {ime}!\"\n",
    "    else:\n",
    "        return f\"Dobra {vrijeme_dana}, {ime}!\"\n",
    "\n",
    "print(pozdrav(\"Ana\"))\n",
    "print(pozdrav(\"Ana\", \"jutro\"))\n",
    "print(pozdrav(\"Ana\", \"vecer\"))\n",
    "pozdrav(\"Ana\", \"dan\")\n",
    "print(pozdrav(\"vecer\"))"
   ]
  },
  {
   "cell_type": "code",
   "execution_count": 15,
   "id": "3f939b3f",
   "metadata": {},
   "outputs": [
    {
     "name": "stdout",
     "output_type": "stream",
     "text": [
      "1\n",
      "120\n"
     ]
    }
   ],
   "source": [
    "# 3. Napišite funkciju koja računa faktorijel broja n. Koristite tu funkciju za izračunavanje\n",
    "# faktorijela broja 5.\n",
    "# factorial = lambda n: 1 if n == 0 else n * factorial(n-1)\n",
    "def faktorijel(n):\n",
    "    if n == 0:\n",
    "        return 1\n",
    "    else:\n",
    "        return n*faktorijel(n-1)\n",
    "\n",
    "print(faktorijel(0))\n",
    "print(faktorijel(5))"
   ]
  },
  {
   "cell_type": "code",
   "execution_count": 20,
   "id": "b99f1878",
   "metadata": {},
   "outputs": [
    {
     "name": "stdout",
     "output_type": "stream",
     "text": [
      "0\n",
      "8\n",
      "4\n",
      "1.0\n",
      "Operacija '%' nepodrzana\n"
     ]
    }
   ],
   "source": [
    "\"\"\" 4.\n",
    "Napišite funkciju koja djeluje kao kalkulator za osnovne matematičke operacije\n",
    "(zbrajanje, oduzimanje, množenje i dijeljenje). Funkcija treba primiti dva broja i operaciju\n",
    "kao ulaz i vratiti rezultat. Na primjer, ako se unese 5, 3 i znak \"+\" kao operacija, funkcija\n",
    "treba vratiti 8.\n",
    "\"\"\"\n",
    "def kalkulator(broj_1, broj_2, operacija):\n",
    "    if operacija == '-':\n",
    "        return broj_1 - broj_2\n",
    "    elif operacija == '+':\n",
    "        return broj_1 + broj_2\n",
    "    elif operacija == '*':\n",
    "        return broj_1 * broj_2\n",
    "    elif operacija == '/':\n",
    "        # if broj_2 != 0:\n",
    "        return broj_1 / broj_2\n",
    "        # else:\n",
    "            # return \"Djeljenje s 0 ne može.\"\n",
    "    else:\n",
    "        return f\"Operacija '{operacija}' nepodrzana\"\n",
    "\n",
    "print(kalkulator(1, 1, '-'))\n",
    "print(kalkulator(5, 3, '+'))\n",
    "print(kalkulator(2, 2, '*'))\n",
    "print(kalkulator(2, 2, '/'))\n",
    "print(kalkulator(1, 1, '%'))"
   ]
  },
  {
   "cell_type": "code",
   "execution_count": 26,
   "id": "71a0aa54",
   "metadata": {},
   "outputs": [
    {
     "name": "stdout",
     "output_type": "stream",
     "text": [
      "(2, 0)\n",
      "Zbroj: 8, razlika: 2\n"
     ]
    }
   ],
   "source": [
    "# 5. Napišite funkciju `calculate()` koja može prihvatiti dvije varijable i izračunati zbroj i razliku.\n",
    "# Također, funkcija mora vratiti i zbroj i razliku u jednom pozivu za povratnu vrijednost.\n",
    "def calculate(x, y):\n",
    "    return x+y, x-y\n",
    "\n",
    "# calculate = lambda a, b: (a+b, a-b)\n",
    "\n",
    "print(calculate(1, 1))\n",
    "zbroj, razlika = calculate(5, 3)\n",
    "print(f\"Zbroj: {zbroj}, razlika: {razlika}\")"
   ]
  },
  {
   "cell_type": "code",
   "execution_count": 27,
   "id": "67082fcd",
   "metadata": {},
   "outputs": [
    {
     "name": "stdout",
     "output_type": "stream",
     "text": [
      "100\n"
     ]
    }
   ],
   "source": [
    "# 6. Napišite lambda funkciju koja računa umnožak dva broja.\n",
    "umnozak = lambda a, b: a*b\n",
    "\n",
    "print(umnozak(10, 10))"
   ]
  },
  {
   "cell_type": "code",
   "execution_count": 52,
   "id": "1b876736",
   "metadata": {},
   "outputs": [
    {
     "name": "stdout",
     "output_type": "stream",
     "text": [
      "42.0\n"
     ]
    }
   ],
   "source": [
    "\"\"\" 7.\n",
    "Napišite lambda funkciju za izračunavanje vrijednosti kvadratne funkcije za zadane ulaze.\n",
    "Program treba koristiti lambda funkciju kako bi izračunao vrijednost funkcije za zadani\n",
    "ulaz x prema formuli f(x) = 2x^2 + 3x + 1.\n",
    "\"\"\"\n",
    "kvadratna_f = lambda x: 2*x**2 + 3*x + 1\n",
    "\n",
    "print(round(kvadratna_f(3.8394), 3))"
   ]
  },
  {
   "cell_type": "code",
   "execution_count": 55,
   "id": "a76304f5",
   "metadata": {},
   "outputs": [
    {
     "name": "stdout",
     "output_type": "stream",
     "text": [
      "[3, 4, 5, 6, 7]\n"
     ]
    }
   ],
   "source": [
    "\"\"\" 8.\n",
    "Napišite Python funkciju nazvanu primjena_lambde. Ova funkcija treba primiti dva\n",
    "argumenta:\n",
    "a. lambda_funkciju - lambda funkciju koja će se primijeniti na svaki broj u listi.\n",
    "b. lista_brojeva - lista brojeva na kojoj će se primijeniti lambda funkcija.\n",
    "Funkcija treba izračunati rezultate primjene lambda funkcije na svaki broj u listi i\n",
    "spremiti ih u novu listu. Na kraju, funkcija treba vratiti tu novu listu rezultata.\n",
    "\"\"\"\n",
    "def primjena_lambde(lambda_funkcija, lista_brojeva):\n",
    "    rezultati = list(map(lambda_funkcija, lista_brojeva))\n",
    "    return rezultati\n",
    "\n",
    "lambda_funkcija = lambda x: x+2\n",
    "lista_brojeva = list(range(1, 6))  # generira listu brojeva od 1 do 5\n",
    "print(primjena_lambde(lambda_funkcija, lista_brojeva))"
   ]
  },
  {
   "cell_type": "code",
   "execution_count": null,
   "id": "e8efbec0",
   "metadata": {},
   "outputs": [],
   "source": []
  }
 ],
 "metadata": {
  "kernelspec": {
   "display_name": "Python 3 (ipykernel)",
   "language": "python",
   "name": "python3"
  },
  "language_info": {
   "codemirror_mode": {
    "name": "ipython",
    "version": 3
   },
   "file_extension": ".py",
   "mimetype": "text/x-python",
   "name": "python",
   "nbconvert_exporter": "python",
   "pygments_lexer": "ipython3",
   "version": "3.11.5"
  }
 },
 "nbformat": 4,
 "nbformat_minor": 5
}
