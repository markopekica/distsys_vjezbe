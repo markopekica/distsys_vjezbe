{
 "cells": [
  {
   "cell_type": "markdown",
   "id": "a4d6829d",
   "metadata": {},
   "source": [
    "## Vježba 1 <div style=\"float:right; font-size:small; font-weight:500;\">18.10.2023.</div>"
   ]
  },
  {
   "cell_type": "code",
   "execution_count": null,
   "id": "a5a98d62",
   "metadata": {},
   "outputs": [],
   "source": [
    "# 1. List operations\n",
    "\n",
    "bodovi = [80, 73, 61, 95, 41, 31]\n",
    "print(bodovi)\n",
    "\n",
    "# a) dodati nove vrijednosti bodova (100 i 22) u listu\n",
    "#\n",
    "# bodovi.append(100)\n",
    "# bodovi.append(22)\n",
    "bodovi.extend((100, 22))\n",
    "print(\"\\na)\", bodovi, \"\\n\\nb)\", end = ' ')\n",
    "\n",
    "#\n",
    "# b) ispišite sve parne brojeve i spremite ih u novu listu korištenjem petlje\n",
    "parni_bodovi = []\n",
    "for bod in bodovi:\n",
    "    if bod % 2 == 0:\n",
    "        print(bod, end=' ')\n",
    "        parni_bodovi.append(bod)\n",
    "print(\" - \", parni_bodovi)\n",
    "\n",
    "#\n",
    "# c) izbrisi bodove manje od 40 iz liste bodovi\n",
    "for bod in bodovi:\n",
    "    if bod < 40:\n",
    "        bodovi.remove(bod)\n",
    "print(f\"\\nc) {bodovi}\", \"\\n\\nd)\")\n",
    "\n",
    "#\n",
    "# d) Prođite kroz listu *bodovi* korištenjem petlje i ispišite ocjene ovisno o bodovnom pragu\n",
    "for bod in bodovi:\n",
    "    if bod > 100:\n",
    "        print('nemoguce')\n",
    "    elif bod >= 90:\n",
    "        print(f'S {bod} bodova imate ocjenu Odličan')\n",
    "    elif bod >= 80:\n",
    "        print(f'S {bod} bodova imate ocjenu Vrlo dobar')\n",
    "    elif bod >= 70:\n",
    "        print(f'S {bod} bodova imate ocjenu Dobar')\n",
    "    elif bod >= 60:\n",
    "        print(f'S {bod} bodova imate ocjenu Dovoljan')\n",
    "    else:\n",
    "        print(f'S {bod} bodova imate ocjenu Nedovoljan')\n",
    "\n"
   ]
  },
  {
   "cell_type": "code",
   "execution_count": null,
   "id": "e805aa6a",
   "metadata": {},
   "outputs": [],
   "source": [
    "# 2. Library Managemenet\n",
    "\n",
    "# Napišite program koji demonstrira upravljanje informacijama o knjigama u obliku rječnika. \n",
    "# Svaka knjiga treba imati naslov, autora, godinu izdanja i stanje dostupnosti.\n",
    "# Početno stanje knjižnice:\n",
    "knjiznica = {\n",
    "    'Harry Potter': {'autor': 'J.K. Rowling', 'godina': 2001, 'dostupno': 5},\n",
    "    'Lord of the Rings': {'autor': 'J.R.R. Tolkien', 'godina': 1954, 'dostupno': 3}\n",
    "}\n",
    "\n",
    "# a) dodajte novu knjigu\n",
    "knjiznica['Witcher'] = {'autor': 'Andrzej Sapkowski', 'godina': 1994, 'dostupno': 0}\n",
    "\n",
    "# b) ispisi sve dostupne knjige\n",
    "# import json\n",
    "# print(json.dumps(knjiznica, indent=4))\n",
    "\n",
    "for naslov, detalji in knjiznica.items():\n",
    "    print(f\"Naslov: {naslov}, Autor: {detalji['autor']}, Godina: {detalji['godina']}, Dostupno: {detalji['dostupno']} primjeraka\")\n",
    "\n",
    "# c) Izbrišite knjigu iz knjižnice (samostalno odaberite)\n",
    "del knjiznica['Harry Potter']\n",
    "\n",
    "# d) Prođite kroz sve naslove u knjižnici i provjerite dostupnost knjiga.\n",
    "# Ako knjiga ima barem jedan primjerak ispišite u konzolu naslov knjige te da je dostupna,\n",
    "# inače napišite da naslov nije dostupan\n",
    "for naslov, detalji in knjiznica.items():\n",
    "    if detalji['dostupno'] >= 1:\n",
    "        print(f\"Naslov {naslov} je dostupan.\")\n",
    "    else:\n",
    "        print(f\"Naslov '{naslov}' nije dostupan.\")"
   ]
  },
  {
   "cell_type": "code",
   "execution_count": null,
   "id": "11a303e9",
   "metadata": {},
   "outputs": [],
   "source": [
    "# 03. List Comprehension\n",
    "#\n",
    "# Napravite listu brojeva od 1 do 100. \n",
    "# Iz te liste napravite listu \"filtrirani_brojevi\" koja će sadržavati brojeve\n",
    "# veće ili jednake 49 i manje ili jednake 80 koristeći list comprehension.\n",
    "lista_brojeva = list(range(1, 101))\n",
    "print(lista_brojeva)\n",
    "\n",
    "filtrirani_brojevi = [broj for broj in lista_brojeva if 49 <= broj <=80]\n",
    "print(filtrirani_brojevi)"
   ]
  },
  {
   "cell_type": "code",
   "execution_count": 45,
   "id": "200e2577",
   "metadata": {},
   "outputs": [
    {
     "name": "stdout",
     "output_type": "stream",
     "text": [
      "{'Ivan': 56, 'Lovro': 80, 'Stipe': 73, 'Tomislav': 51}\n"
     ]
    }
   ],
   "source": [
    "# 04. Dictionary Comprehension\n",
    "\n",
    "studenti = {\n",
    "    \"Ana\": 100,\n",
    "    \"Marko\": 25,\n",
    "    \"Petra\": 49,\n",
    "    \"Ivan\": 56,\n",
    "    \"Mia\": 89,\n",
    "    \"Lovro\": 80,\n",
    "    \"Stipe\":73,\n",
    "    \"Lea\":60,\n",
    "    \"Tomislav\":51,\n",
    "    \"Leo\":99\n",
    "}\n",
    "\n",
    "# Iz tog rječnika napravite novi rječnik \"filtrirani_studenti\" koji će sadržavati samo studente\n",
    "# koji imaju imena s više od 3 slova i minimalno 50 bodova koristeći dictionary comprehension.\n",
    "filtrirani_studenti = {ime: bodovi for ime, bodovi in studenti.items() if len(ime) > 3 and bodovi >= 50}\n",
    "print(filtrirani_studenti)"
   ]
  },
  {
   "cell_type": "code",
   "execution_count": null,
   "id": "5387552d",
   "metadata": {},
   "outputs": [],
   "source": []
  }
 ],
 "metadata": {
  "kernelspec": {
   "display_name": "Python 3 (ipykernel)",
   "language": "python",
   "name": "python3"
  },
  "language_info": {
   "codemirror_mode": {
    "name": "ipython",
    "version": 3
   },
   "file_extension": ".py",
   "mimetype": "text/x-python",
   "name": "python",
   "nbconvert_exporter": "python",
   "pygments_lexer": "ipython3",
   "version": "3.11.5"
  }
 },
 "nbformat": 4,
 "nbformat_minor": 5
}
